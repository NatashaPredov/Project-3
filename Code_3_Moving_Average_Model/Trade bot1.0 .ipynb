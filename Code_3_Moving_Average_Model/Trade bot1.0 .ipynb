{
 "cells": [
  {
   "cell_type": "code",
   "execution_count": 1,
   "id": "92077abc-a73d-4e46-b9e0-0298f562d175",
   "metadata": {},
   "outputs": [],
   "source": [
    "import pandas as pd\n",
    "from sklearn.ensemble import RandomForestRegressor\n",
    "from sklearn.ensemble import GradientBoostingRegressor\n",
    "from sklearn.ensemble import StackingRegressor\n",
    "from sklearn.linear_model import Lasso\n",
    "from sklearn.linear_model import Ridge\n",
    "from sklearn.model_selection import train_test_split\n",
    "from sklearn.svm import SVR\n",
    "from sklearn.metrics import mean_squared_error, r2_score\n",
    "from sklearn.linear_model import LinearRegression\n",
    "from sklearn.model_selection import cross_val_score\n",
    "import numpy as np\n",
    "import talib\n",
    "from ta.trend import EMAIndicator\n",
    "import matplotlib.pyplot as plt\n",
    "import ta\n",
    "import os\n",
    "import matplotlib.pyplot as plt\n",
    "import alpaca_trade_api as tradeapi\n",
    "from dotenv import load_dotenv, find_dotenv"
   ]
  },
  {
   "cell_type": "code",
   "execution_count": 2,
   "id": "4a83fd9b-ca99-4bde-a43e-dab9a2c600bd",
   "metadata": {},
   "outputs": [
    {
     "data": {
      "text/plain": [
       "True"
      ]
     },
     "execution_count": 2,
     "metadata": {},
     "output_type": "execute_result"
    }
   ],
   "source": [
    "load_dotenv()"
   ]
  },
  {
   "cell_type": "code",
   "execution_count": 3,
   "id": "b5ef9f71-20d9-46eb-8b47-5b3946495fac",
   "metadata": {},
   "outputs": [
    {
     "data": {
      "text/html": [
       "<div>\n",
       "<style scoped>\n",
       "    .dataframe tbody tr th:only-of-type {\n",
       "        vertical-align: middle;\n",
       "    }\n",
       "\n",
       "    .dataframe tbody tr th {\n",
       "        vertical-align: top;\n",
       "    }\n",
       "\n",
       "    .dataframe thead th {\n",
       "        text-align: right;\n",
       "    }\n",
       "</style>\n",
       "<table border=\"1\" class=\"dataframe\">\n",
       "  <thead>\n",
       "    <tr style=\"text-align: right;\">\n",
       "      <th></th>\n",
       "      <th>open</th>\n",
       "      <th>high</th>\n",
       "      <th>low</th>\n",
       "      <th>close</th>\n",
       "      <th>volume</th>\n",
       "      <th>trade_count</th>\n",
       "      <th>vwap</th>\n",
       "      <th>symbol</th>\n",
       "    </tr>\n",
       "    <tr>\n",
       "      <th>Date</th>\n",
       "      <th></th>\n",
       "      <th></th>\n",
       "      <th></th>\n",
       "      <th></th>\n",
       "      <th></th>\n",
       "      <th></th>\n",
       "      <th></th>\n",
       "      <th></th>\n",
       "    </tr>\n",
       "  </thead>\n",
       "  <tbody>\n",
       "    <tr>\n",
       "      <th>2019-01-07 05:00:00+00:00</th>\n",
       "      <td>252.700</td>\n",
       "      <td>255.9500</td>\n",
       "      <td>251.69</td>\n",
       "      <td>254.29</td>\n",
       "      <td>103705813</td>\n",
       "      <td>449998</td>\n",
       "      <td>254.069565</td>\n",
       "      <td>SPY</td>\n",
       "    </tr>\n",
       "    <tr>\n",
       "      <th>2019-01-08 05:00:00+00:00</th>\n",
       "      <td>256.820</td>\n",
       "      <td>257.3100</td>\n",
       "      <td>254.00</td>\n",
       "      <td>256.62</td>\n",
       "      <td>103267687</td>\n",
       "      <td>461977</td>\n",
       "      <td>255.845300</td>\n",
       "      <td>SPY</td>\n",
       "    </tr>\n",
       "    <tr>\n",
       "      <th>2019-01-09 05:00:00+00:00</th>\n",
       "      <td>257.560</td>\n",
       "      <td>258.9100</td>\n",
       "      <td>256.19</td>\n",
       "      <td>257.92</td>\n",
       "      <td>95741225</td>\n",
       "      <td>438058</td>\n",
       "      <td>257.817252</td>\n",
       "      <td>SPY</td>\n",
       "    </tr>\n",
       "    <tr>\n",
       "      <th>2019-01-10 05:00:00+00:00</th>\n",
       "      <td>256.260</td>\n",
       "      <td>259.1600</td>\n",
       "      <td>255.50</td>\n",
       "      <td>258.98</td>\n",
       "      <td>98012473</td>\n",
       "      <td>417182</td>\n",
       "      <td>257.827540</td>\n",
       "      <td>SPY</td>\n",
       "    </tr>\n",
       "    <tr>\n",
       "      <th>2019-01-11 05:00:00+00:00</th>\n",
       "      <td>257.680</td>\n",
       "      <td>259.0098</td>\n",
       "      <td>257.03</td>\n",
       "      <td>258.81</td>\n",
       "      <td>74684741</td>\n",
       "      <td>298075</td>\n",
       "      <td>258.331868</td>\n",
       "      <td>SPY</td>\n",
       "    </tr>\n",
       "    <tr>\n",
       "      <th>...</th>\n",
       "      <td>...</td>\n",
       "      <td>...</td>\n",
       "      <td>...</td>\n",
       "      <td>...</td>\n",
       "      <td>...</td>\n",
       "      <td>...</td>\n",
       "      <td>...</td>\n",
       "      <td>...</td>\n",
       "    </tr>\n",
       "    <tr>\n",
       "      <th>2023-01-23 05:00:00+00:00</th>\n",
       "      <td>396.720</td>\n",
       "      <td>402.6450</td>\n",
       "      <td>395.72</td>\n",
       "      <td>400.63</td>\n",
       "      <td>84187957</td>\n",
       "      <td>568843</td>\n",
       "      <td>399.770552</td>\n",
       "      <td>SPY</td>\n",
       "    </tr>\n",
       "    <tr>\n",
       "      <th>2023-01-24 05:00:00+00:00</th>\n",
       "      <td>398.880</td>\n",
       "      <td>401.1500</td>\n",
       "      <td>397.64</td>\n",
       "      <td>400.20</td>\n",
       "      <td>59549719</td>\n",
       "      <td>434698</td>\n",
       "      <td>399.936054</td>\n",
       "      <td>SPY</td>\n",
       "    </tr>\n",
       "    <tr>\n",
       "      <th>2023-01-25 05:00:00+00:00</th>\n",
       "      <td>395.950</td>\n",
       "      <td>400.7000</td>\n",
       "      <td>393.56</td>\n",
       "      <td>400.35</td>\n",
       "      <td>84826825</td>\n",
       "      <td>583807</td>\n",
       "      <td>397.858257</td>\n",
       "      <td>SPY</td>\n",
       "    </tr>\n",
       "    <tr>\n",
       "      <th>2023-01-26 05:00:00+00:00</th>\n",
       "      <td>403.130</td>\n",
       "      <td>404.9200</td>\n",
       "      <td>400.03</td>\n",
       "      <td>404.75</td>\n",
       "      <td>72307597</td>\n",
       "      <td>521730</td>\n",
       "      <td>402.612043</td>\n",
       "      <td>SPY</td>\n",
       "    </tr>\n",
       "    <tr>\n",
       "      <th>2023-01-27 05:00:00+00:00</th>\n",
       "      <td>403.655</td>\n",
       "      <td>408.1600</td>\n",
       "      <td>403.44</td>\n",
       "      <td>405.68</td>\n",
       "      <td>68346180</td>\n",
       "      <td>496480</td>\n",
       "      <td>405.790293</td>\n",
       "      <td>SPY</td>\n",
       "    </tr>\n",
       "  </tbody>\n",
       "</table>\n",
       "<p>1023 rows × 8 columns</p>\n",
       "</div>"
      ],
      "text/plain": [
       "                              open      high     low   close     volume  \\\n",
       "Date                                                                      \n",
       "2019-01-07 05:00:00+00:00  252.700  255.9500  251.69  254.29  103705813   \n",
       "2019-01-08 05:00:00+00:00  256.820  257.3100  254.00  256.62  103267687   \n",
       "2019-01-09 05:00:00+00:00  257.560  258.9100  256.19  257.92   95741225   \n",
       "2019-01-10 05:00:00+00:00  256.260  259.1600  255.50  258.98   98012473   \n",
       "2019-01-11 05:00:00+00:00  257.680  259.0098  257.03  258.81   74684741   \n",
       "...                            ...       ...     ...     ...        ...   \n",
       "2023-01-23 05:00:00+00:00  396.720  402.6450  395.72  400.63   84187957   \n",
       "2023-01-24 05:00:00+00:00  398.880  401.1500  397.64  400.20   59549719   \n",
       "2023-01-25 05:00:00+00:00  395.950  400.7000  393.56  400.35   84826825   \n",
       "2023-01-26 05:00:00+00:00  403.130  404.9200  400.03  404.75   72307597   \n",
       "2023-01-27 05:00:00+00:00  403.655  408.1600  403.44  405.68   68346180   \n",
       "\n",
       "                           trade_count        vwap symbol  \n",
       "Date                                                       \n",
       "2019-01-07 05:00:00+00:00       449998  254.069565    SPY  \n",
       "2019-01-08 05:00:00+00:00       461977  255.845300    SPY  \n",
       "2019-01-09 05:00:00+00:00       438058  257.817252    SPY  \n",
       "2019-01-10 05:00:00+00:00       417182  257.827540    SPY  \n",
       "2019-01-11 05:00:00+00:00       298075  258.331868    SPY  \n",
       "...                                ...         ...    ...  \n",
       "2023-01-23 05:00:00+00:00       568843  399.770552    SPY  \n",
       "2023-01-24 05:00:00+00:00       434698  399.936054    SPY  \n",
       "2023-01-25 05:00:00+00:00       583807  397.858257    SPY  \n",
       "2023-01-26 05:00:00+00:00       521730  402.612043    SPY  \n",
       "2023-01-27 05:00:00+00:00       496480  405.790293    SPY  \n",
       "\n",
       "[1023 rows x 8 columns]"
      ]
     },
     "metadata": {},
     "output_type": "display_data"
    }
   ],
   "source": [
    "ticker = [\"SPY\"]\n",
    "# Set timeframe to \"1Day\" for Alpaca API\n",
    "timeframe = \"1day\"\n",
    "# Format current date as ISO format\n",
    "start_date = pd.Timestamp(\"2019-01-06\", tz=\"America/New_York\").isoformat()\n",
    "end_date = pd.Timestamp(\"2023-01-28\", tz=\"America/New_York\").isoformat()\n",
    "# Set Alpaca API key and secret\n",
    "alpaca_api_key = os.getenv(\"ALPACA_API_KEY\")\n",
    "alpaca_secret_key = os.getenv(\"ALPACA_SECRET_KEY\")\n",
    "# Create the Alpaca API object\n",
    "api = tradeapi.REST(\n",
    "    alpaca_api_key,\n",
    "    alpaca_secret_key,\n",
    "    api_version=\"v2\"\n",
    ")\n",
    "\n",
    "\n",
    "stock_data = api.get_bars(\n",
    "    ticker,\n",
    "    timeframe,\n",
    "    start=start_date,\n",
    "    end=end_date\n",
    ").df\n",
    "\n",
    "# Reorganize the DataFrame\n",
    "# Separate ticker data\n",
    "# Drop unwanted coloumns - Keep  Close\n",
    "#stock_data.drop(columns= ['trade_count','vwap','symbol'], inplace= True)\n",
    "    # Combine individual stocks into a single data frame\n",
    "\n",
    "  # Rename the coloumns to the ticker symbols in the list\n",
    "#stock_data.columns = ticker\n",
    "stock_data.index.name = 'Date'\n",
    "stock_data.index_column = 'Date'\n",
    "# Drop the N/As\n",
    "\n",
    "\n",
    "# Drop the time component of the date\n",
    "#df_ticker.index = df_ticker.index.date\n",
    "\n",
    "\n",
    "# Display the data\n",
    "display(stock_data)"
   ]
  },
  {
   "cell_type": "code",
   "execution_count": 4,
   "id": "c8ec35b3-73c5-4ece-b869-8708c795d57c",
   "metadata": {},
   "outputs": [],
   "source": [
    "# Calculate the Exponential Moving Average (EMA)\n",
    "def EMA(stock_data, window):\n",
    "    EMA = stock_data['close'].ewm(span=window).mean()\n",
    "    return EMA"
   ]
  },
  {
   "cell_type": "code",
   "execution_count": 5,
   "id": "5d552edd-dc45-4ce9-b177-aa8f77f064ac",
   "metadata": {},
   "outputs": [],
   "source": [
    "window1=8\n",
    "window2=20\n",
    "# Calculate the difference between the two EMAs\n",
    "def EMA_difference(stock_data, window1, window2):\n",
    "    EMA1 = EMA(stock_data, window1)\n",
    "    EMA2 = EMA(stock_data, window2)\n",
    "    difference = EMA1 - EMA2\n",
    "    return difference\n"
   ]
  },
  {
   "cell_type": "code",
   "execution_count": 6,
   "id": "ca095351-84e3-49b4-91e5-833939c29498",
   "metadata": {},
   "outputs": [],
   "source": [
    "# Create the feature set\n",
    "stock_data['EMA_difference'] = EMA_difference(stock_data, 8, 20)\n",
    "stock_data['EMA_signal'] = np.where(stock_data['EMA_difference'] > 0, 1, 0)\n",
    "stock_data = stock_data.dropna()"
   ]
  },
  {
   "cell_type": "code",
   "execution_count": 7,
   "id": "6aee4c52-6bf3-4962-be56-8e1a6be2305e",
   "metadata": {},
   "outputs": [],
   "source": [
    "\n",
    "# Split the data into training and testing sets\n",
    "X = stock_data[['open', 'high', 'low', 'volume']]\n",
    "y = stock_data['EMA_signal']\n",
    "X_train, X_test, y_train, y_test = train_test_split(X, y, test_size=0.2, random_state=42)\n"
   ]
  },
  {
   "cell_type": "code",
   "execution_count": 8,
   "id": "e9b37589-d35d-4bc5-b41b-837f5166b3c8",
   "metadata": {},
   "outputs": [
    {
     "data": {
      "text/html": [
       "<style>#sk-container-id-1 {color: black;background-color: white;}#sk-container-id-1 pre{padding: 0;}#sk-container-id-1 div.sk-toggleable {background-color: white;}#sk-container-id-1 label.sk-toggleable__label {cursor: pointer;display: block;width: 100%;margin-bottom: 0;padding: 0.3em;box-sizing: border-box;text-align: center;}#sk-container-id-1 label.sk-toggleable__label-arrow:before {content: \"▸\";float: left;margin-right: 0.25em;color: #696969;}#sk-container-id-1 label.sk-toggleable__label-arrow:hover:before {color: black;}#sk-container-id-1 div.sk-estimator:hover label.sk-toggleable__label-arrow:before {color: black;}#sk-container-id-1 div.sk-toggleable__content {max-height: 0;max-width: 0;overflow: hidden;text-align: left;background-color: #f0f8ff;}#sk-container-id-1 div.sk-toggleable__content pre {margin: 0.2em;color: black;border-radius: 0.25em;background-color: #f0f8ff;}#sk-container-id-1 input.sk-toggleable__control:checked~div.sk-toggleable__content {max-height: 200px;max-width: 100%;overflow: auto;}#sk-container-id-1 input.sk-toggleable__control:checked~label.sk-toggleable__label-arrow:before {content: \"▾\";}#sk-container-id-1 div.sk-estimator input.sk-toggleable__control:checked~label.sk-toggleable__label {background-color: #d4ebff;}#sk-container-id-1 div.sk-label input.sk-toggleable__control:checked~label.sk-toggleable__label {background-color: #d4ebff;}#sk-container-id-1 input.sk-hidden--visually {border: 0;clip: rect(1px 1px 1px 1px);clip: rect(1px, 1px, 1px, 1px);height: 1px;margin: -1px;overflow: hidden;padding: 0;position: absolute;width: 1px;}#sk-container-id-1 div.sk-estimator {font-family: monospace;background-color: #f0f8ff;border: 1px dotted black;border-radius: 0.25em;box-sizing: border-box;margin-bottom: 0.5em;}#sk-container-id-1 div.sk-estimator:hover {background-color: #d4ebff;}#sk-container-id-1 div.sk-parallel-item::after {content: \"\";width: 100%;border-bottom: 1px solid gray;flex-grow: 1;}#sk-container-id-1 div.sk-label:hover label.sk-toggleable__label {background-color: #d4ebff;}#sk-container-id-1 div.sk-serial::before {content: \"\";position: absolute;border-left: 1px solid gray;box-sizing: border-box;top: 0;bottom: 0;left: 50%;z-index: 0;}#sk-container-id-1 div.sk-serial {display: flex;flex-direction: column;align-items: center;background-color: white;padding-right: 0.2em;padding-left: 0.2em;position: relative;}#sk-container-id-1 div.sk-item {position: relative;z-index: 1;}#sk-container-id-1 div.sk-parallel {display: flex;align-items: stretch;justify-content: center;background-color: white;position: relative;}#sk-container-id-1 div.sk-item::before, #sk-container-id-1 div.sk-parallel-item::before {content: \"\";position: absolute;border-left: 1px solid gray;box-sizing: border-box;top: 0;bottom: 0;left: 50%;z-index: -1;}#sk-container-id-1 div.sk-parallel-item {display: flex;flex-direction: column;z-index: 1;position: relative;background-color: white;}#sk-container-id-1 div.sk-parallel-item:first-child::after {align-self: flex-end;width: 50%;}#sk-container-id-1 div.sk-parallel-item:last-child::after {align-self: flex-start;width: 50%;}#sk-container-id-1 div.sk-parallel-item:only-child::after {width: 0;}#sk-container-id-1 div.sk-dashed-wrapped {border: 1px dashed gray;margin: 0 0.4em 0.5em 0.4em;box-sizing: border-box;padding-bottom: 0.4em;background-color: white;}#sk-container-id-1 div.sk-label label {font-family: monospace;font-weight: bold;display: inline-block;line-height: 1.2em;}#sk-container-id-1 div.sk-label-container {text-align: center;}#sk-container-id-1 div.sk-container {/* jupyter's `normalize.less` sets `[hidden] { display: none; }` but bootstrap.min.css set `[hidden] { display: none !important; }` so we also need the `!important` here to be able to override the default hidden behavior on the sphinx rendered scikit-learn.org. See: https://github.com/scikit-learn/scikit-learn/issues/21755 */display: inline-block !important;position: relative;}#sk-container-id-1 div.sk-text-repr-fallback {display: none;}</style><div id=\"sk-container-id-1\" class=\"sk-top-container\"><div class=\"sk-text-repr-fallback\"><pre>LinearRegression()</pre><b>In a Jupyter environment, please rerun this cell to show the HTML representation or trust the notebook. <br />On GitHub, the HTML representation is unable to render, please try loading this page with nbviewer.org.</b></div><div class=\"sk-container\" hidden><div class=\"sk-item\"><div class=\"sk-estimator sk-toggleable\"><input class=\"sk-toggleable__control sk-hidden--visually\" id=\"sk-estimator-id-1\" type=\"checkbox\" checked><label for=\"sk-estimator-id-1\" class=\"sk-toggleable__label sk-toggleable__label-arrow\">LinearRegression</label><div class=\"sk-toggleable__content\"><pre>LinearRegression()</pre></div></div></div></div></div>"
      ],
      "text/plain": [
       "LinearRegression()"
      ]
     },
     "execution_count": 8,
     "metadata": {},
     "output_type": "execute_result"
    }
   ],
   "source": [
    "# Train the Linear Regression model\n",
    "model = LinearRegression()\n",
    "model.fit(X_train, y_train)"
   ]
  },
  {
   "cell_type": "code",
   "execution_count": 9,
   "id": "d5d2272a-0e5d-4e0c-be9c-9d28fbdfc99e",
   "metadata": {},
   "outputs": [],
   "source": [
    "\n",
    "# Make predictions on the testing set\n",
    "y_pred = model.predict(X_test)\n",
    "y_pred = np.round(y_pred)\n"
   ]
  },
  {
   "cell_type": "code",
   "execution_count": 10,
   "id": "0f01727d-8110-4ca2-80bd-d7abf496e0e1",
   "metadata": {},
   "outputs": [
    {
     "name": "stdout",
     "output_type": "stream",
     "text": [
      "Mean Squared Error: 0.21951219512195122\n",
      "R2 Score: -0.07093104248897109\n"
     ]
    }
   ],
   "source": [
    "\n",
    "# Evaluate the model's performance\n",
    "mse = mean_squared_error(y_test, y_pred)\n",
    "r2 = r2_score(y_test, y_pred)\n",
    "print('Mean Squared Error:', mse)\n",
    "print('R2 Score:', r2)"
   ]
  },
  {
   "cell_type": "code",
   "execution_count": 11,
   "id": "740cd6d9-6467-48cd-a9d7-41e9011bf077",
   "metadata": {},
   "outputs": [
    {
     "data": {
      "image/png": "[encoded data removed]",
      "text/plain": [
       "<Figure size 640x480 with 1 Axes>"
      ]
     },
     "metadata": {},
     "output_type": "display_data"
    }
   ],
   "source": [
    "# Plot the actual and predicted values\n",
    "plt.plot(y_test, label='actual')\n",
    "plt.plot(y_pred, label='predicted')\n",
    "plt.legend()\n",
    "plt.show()"
   ]
  },
  {
   "cell_type": "code",
   "execution_count": null,
   "id": "6afaa74a-a296-44e5-9bc9-3e3d13eeb3a1",
   "metadata": {},
   "outputs": [],
   "source": []
  }
 ],
 "metadata": {
  "kernelspec": {
   "display_name": "Python 3 (ipykernel)",
   "language": "python",
   "name": "python3"
  },
  "language_info": {
   "codemirror_mode": {
    "name": "ipython",
    "version": 3
   },
   "file_extension": ".py",
   "mimetype": "text/x-python",
   "name": "python",
   "nbconvert_exporter": "python",
   "pygments_lexer": "ipython3",
   "version": "3.9.12"
  }
 },
 "nbformat": 4,
 "nbformat_minor": 5
}
