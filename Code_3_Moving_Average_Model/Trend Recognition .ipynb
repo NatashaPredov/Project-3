{
 "cells": [
  {
   "cell_type": "code",
   "execution_count": 1,
   "id": "92077abc-a73d-4e46-b9e0-0298f562d175",
   "metadata": {},
   "outputs": [],
   "source": [
    "import numpy as np\n",
    "import pandas as pd\n",
    "from sklearn.linear_model import LinearRegression\n",
    "from sklearn.svm import SVR\n",
    "from sklearn.metrics import accuracy_score\n",
    "from sklearn.ensemble import RandomForestRegressor\n",
    "from sklearn.ensemble import VotingRegressor\n",
    "from sklearn.model_selection import train_test_split\n",
    "from sklearn.preprocessing import StandardScaler\n",
    "from sklearn.metrics import mean_squared_error\n",
    "from sklearn.metrics import r2_score\n",
    "from sklearn.model_selection import GridSearchCV\n",
    "import talib\n",
    "import os\n",
    "import matplotlib.pyplot as plt\n",
    "import alpaca_trade_api as tradeapi\n",
    "from dotenv import load_dotenv, find_dotenv"
   ]
  },
  {
   "cell_type": "code",
   "execution_count": 2,
   "id": "4a83fd9b-ca99-4bde-a43e-dab9a2c600bd",
   "metadata": {},
   "outputs": [
    {
     "data": {
      "text/plain": [
       "True"
      ]
     },
     "execution_count": 2,
     "metadata": {},
     "output_type": "execute_result"
    }
   ],
   "source": [
    "load_dotenv()"
   ]
  },
  {
   "cell_type": "code",
   "execution_count": 3,
   "id": "b5ef9f71-20d9-46eb-8b47-5b3946495fac",
   "metadata": {},
   "outputs": [
    {
     "data": {
      "text/html": [
       "<div>\n",
       "<style scoped>\n",
       "    .dataframe tbody tr th:only-of-type {\n",
       "        vertical-align: middle;\n",
       "    }\n",
       "\n",
       "    .dataframe tbody tr th {\n",
       "        vertical-align: top;\n",
       "    }\n",
       "\n",
       "    .dataframe thead th {\n",
       "        text-align: right;\n",
       "    }\n",
       "</style>\n",
       "<table border=\"1\" class=\"dataframe\">\n",
       "  <thead>\n",
       "    <tr style=\"text-align: right;\">\n",
       "      <th></th>\n",
       "      <th>open</th>\n",
       "      <th>high</th>\n",
       "      <th>low</th>\n",
       "      <th>close</th>\n",
       "      <th>volume</th>\n",
       "    </tr>\n",
       "    <tr>\n",
       "      <th>Date</th>\n",
       "      <th></th>\n",
       "      <th></th>\n",
       "      <th></th>\n",
       "      <th></th>\n",
       "      <th></th>\n",
       "    </tr>\n",
       "  </thead>\n",
       "  <tbody>\n",
       "    <tr>\n",
       "      <th>2019-01-07 05:00:00+00:00</th>\n",
       "      <td>252.700</td>\n",
       "      <td>255.9500</td>\n",
       "      <td>251.69</td>\n",
       "      <td>254.29</td>\n",
       "      <td>103705813</td>\n",
       "    </tr>\n",
       "    <tr>\n",
       "      <th>2019-01-08 05:00:00+00:00</th>\n",
       "      <td>256.820</td>\n",
       "      <td>257.3100</td>\n",
       "      <td>254.00</td>\n",
       "      <td>256.62</td>\n",
       "      <td>103267687</td>\n",
       "    </tr>\n",
       "    <tr>\n",
       "      <th>2019-01-09 05:00:00+00:00</th>\n",
       "      <td>257.560</td>\n",
       "      <td>258.9100</td>\n",
       "      <td>256.19</td>\n",
       "      <td>257.92</td>\n",
       "      <td>95741225</td>\n",
       "    </tr>\n",
       "    <tr>\n",
       "      <th>2019-01-10 05:00:00+00:00</th>\n",
       "      <td>256.260</td>\n",
       "      <td>259.1600</td>\n",
       "      <td>255.50</td>\n",
       "      <td>258.98</td>\n",
       "      <td>98012473</td>\n",
       "    </tr>\n",
       "    <tr>\n",
       "      <th>2019-01-11 05:00:00+00:00</th>\n",
       "      <td>257.680</td>\n",
       "      <td>259.0098</td>\n",
       "      <td>257.03</td>\n",
       "      <td>258.81</td>\n",
       "      <td>74684741</td>\n",
       "    </tr>\n",
       "    <tr>\n",
       "      <th>...</th>\n",
       "      <td>...</td>\n",
       "      <td>...</td>\n",
       "      <td>...</td>\n",
       "      <td>...</td>\n",
       "      <td>...</td>\n",
       "    </tr>\n",
       "    <tr>\n",
       "      <th>2023-01-23 05:00:00+00:00</th>\n",
       "      <td>396.720</td>\n",
       "      <td>402.6450</td>\n",
       "      <td>395.72</td>\n",
       "      <td>400.63</td>\n",
       "      <td>84187957</td>\n",
       "    </tr>\n",
       "    <tr>\n",
       "      <th>2023-01-24 05:00:00+00:00</th>\n",
       "      <td>398.880</td>\n",
       "      <td>401.1500</td>\n",
       "      <td>397.64</td>\n",
       "      <td>400.20</td>\n",
       "      <td>59549719</td>\n",
       "    </tr>\n",
       "    <tr>\n",
       "      <th>2023-01-25 05:00:00+00:00</th>\n",
       "      <td>395.950</td>\n",
       "      <td>400.7000</td>\n",
       "      <td>393.56</td>\n",
       "      <td>400.35</td>\n",
       "      <td>84826825</td>\n",
       "    </tr>\n",
       "    <tr>\n",
       "      <th>2023-01-26 05:00:00+00:00</th>\n",
       "      <td>403.130</td>\n",
       "      <td>404.9200</td>\n",
       "      <td>400.03</td>\n",
       "      <td>404.75</td>\n",
       "      <td>72307597</td>\n",
       "    </tr>\n",
       "    <tr>\n",
       "      <th>2023-01-27 05:00:00+00:00</th>\n",
       "      <td>403.655</td>\n",
       "      <td>408.1600</td>\n",
       "      <td>403.44</td>\n",
       "      <td>405.68</td>\n",
       "      <td>68346180</td>\n",
       "    </tr>\n",
       "  </tbody>\n",
       "</table>\n",
       "<p>1023 rows × 5 columns</p>\n",
       "</div>"
      ],
      "text/plain": [
       "                              open      high     low   close     volume\n",
       "Date                                                                   \n",
       "2019-01-07 05:00:00+00:00  252.700  255.9500  251.69  254.29  103705813\n",
       "2019-01-08 05:00:00+00:00  256.820  257.3100  254.00  256.62  103267687\n",
       "2019-01-09 05:00:00+00:00  257.560  258.9100  256.19  257.92   95741225\n",
       "2019-01-10 05:00:00+00:00  256.260  259.1600  255.50  258.98   98012473\n",
       "2019-01-11 05:00:00+00:00  257.680  259.0098  257.03  258.81   74684741\n",
       "...                            ...       ...     ...     ...        ...\n",
       "2023-01-23 05:00:00+00:00  396.720  402.6450  395.72  400.63   84187957\n",
       "2023-01-24 05:00:00+00:00  398.880  401.1500  397.64  400.20   59549719\n",
       "2023-01-25 05:00:00+00:00  395.950  400.7000  393.56  400.35   84826825\n",
       "2023-01-26 05:00:00+00:00  403.130  404.9200  400.03  404.75   72307597\n",
       "2023-01-27 05:00:00+00:00  403.655  408.1600  403.44  405.68   68346180\n",
       "\n",
       "[1023 rows x 5 columns]"
      ]
     },
     "metadata": {},
     "output_type": "display_data"
    }
   ],
   "source": [
    "ticker = [\"SPY\"]\n",
    "# Set timeframe to \"1Day\" for Alpaca API\n",
    "timeframe = \"1day\"\n",
    "# Format current date as ISO format\n",
    "start_date = pd.Timestamp(\"2019-01-06\", tz=\"America/New_York\").isoformat()\n",
    "end_date = pd.Timestamp(\"2023-01-28\", tz=\"America/New_York\").isoformat()\n",
    "# Set Alpaca API key and secret\n",
    "alpaca_api_key = os.getenv(\"ALPACA_API_KEY\")\n",
    "alpaca_secret_key = os.getenv(\"ALPACA_SECRET_KEY\")\n",
    "# Create the Alpaca API object\n",
    "api = tradeapi.REST(\n",
    "    alpaca_api_key,\n",
    "    alpaca_secret_key,\n",
    "    api_version=\"v2\"\n",
    ")\n",
    "\n",
    "\n",
    "stock_data = api.get_bars(\n",
    "    ticker,\n",
    "    timeframe,\n",
    "    start=start_date,\n",
    "    end=end_date\n",
    ").df\n",
    "\n",
    "# Reorganize the DataFrame\n",
    "# Separate ticker data\n",
    "# Drop unwanted coloumns - Keep  Close\n",
    "stock_data.drop(columns= ['trade_count','vwap','symbol'], inplace= True)\n",
    "    # Combine individual stocks into a single data frame\n",
    "\n",
    "  # Rename the coloumns to the ticker symbols in the list\n",
    "#stock_data.columns = ticker\n",
    "stock_data.index.name = 'Date'\n",
    "stock_data.index_column = 'Date'\n",
    "# Drop the N/As\n",
    "\n",
    "\n",
    "# Drop the time component of the date\n",
    "#df_ticker.index = df_ticker.index.date\n",
    "\n",
    "\n",
    "# Display the data\n",
    "display(stock_data)"
   ]
  },
  {
   "cell_type": "code",
   "execution_count": 4,
   "id": "e7e9443c-78ae-4cde-8c53-680019b3ef61",
   "metadata": {},
   "outputs": [],
   "source": [
    "stock_data.dropna(inplace=True)"
   ]
  },
  {
   "cell_type": "code",
   "execution_count": 5,
   "id": "c8ec35b3-73c5-4ece-b869-8708c795d57c",
   "metadata": {},
   "outputs": [],
   "source": [
    "# Set the variables for short window and long window periods\n",
    "short_window = 8\n",
    "long_window = 20\n",
    "# Add additional columns for EMA\n",
    "stock_data[\"EMA_8\"] = stock_data[\"close\"].ewm(span=short_window).mean()\n",
    "stock_data[\"EMA_20\"] = stock_data[\"close\"].ewm(span=long_window).mean()"
   ]
  },
  {
   "cell_type": "code",
   "execution_count": 6,
   "id": "58420bb0-854e-4a47-acd9-fda8279b5005",
   "metadata": {},
   "outputs": [],
   "source": [
    "stock_data[\"MA_50\"] = stock_data[\"close\"].rolling(window=50).mean()\n",
    "stock_data[\"MA_126\"] = stock_data[\"close\"].rolling(window=126).mean()"
   ]
  },
  {
   "cell_type": "code",
   "execution_count": 7,
   "id": "b2b510af-c14c-436a-a357-a02034403f9b",
   "metadata": {},
   "outputs": [],
   "source": [
    "# Add additional columns for RSI\n",
    "stock_data[\"RSI\"] = talib.RSI(stock_data[\"close\"])\n"
   ]
  },
  {
   "cell_type": "code",
   "execution_count": 8,
   "id": "9aeaa1cd-c68f-40ce-b8fb-1bdfcd41cc52",
   "metadata": {},
   "outputs": [],
   "source": [
    "# Add additional columns for Bollinger Bands\n",
    "stock_data[\"Upper_Bollinger_Band\"], stock_data[\"Middle_Bollinger_Band\"], stock_data[\"Lower_Bollinger_Band\"] = talib.BBANDS(stock_data[\"close\"])"
   ]
  },
  {
   "cell_type": "code",
   "execution_count": 9,
   "id": "a7d457f0-f2bf-462c-894d-e776f1fd5945",
   "metadata": {},
   "outputs": [],
   "source": [
    "# Shift the data by 10 days\n",
    "stock_data[\"Close_future_10\"] = stock_data[\"close\"].shift(-10)"
   ]
  },
  {
   "cell_type": "code",
   "execution_count": 10,
   "id": "9b1f26c9-8e71-4582-a716-edc88c185d96",
   "metadata": {},
   "outputs": [
    {
     "data": {
      "text/plain": [
       "open                       0\n",
       "high                       0\n",
       "low                        0\n",
       "close                      0\n",
       "volume                     0\n",
       "EMA_8                      0\n",
       "EMA_20                     0\n",
       "MA_50                     49\n",
       "MA_126                   125\n",
       "RSI                       14\n",
       "Upper_Bollinger_Band       4\n",
       "Middle_Bollinger_Band      4\n",
       "Lower_Bollinger_Band       4\n",
       "Close_future_10           10\n",
       "dtype: int64"
      ]
     },
     "execution_count": 10,
     "metadata": {},
     "output_type": "execute_result"
    }
   ],
   "source": [
    "#check for any missing values\n",
    "stock_data.isnull().sum()"
   ]
  },
  {
   "cell_type": "code",
   "execution_count": 11,
   "id": "31d5c8ae-8d1a-4b9e-acaf-be4ed4d24ed9",
   "metadata": {},
   "outputs": [],
   "source": [
    "#handle missing values\n",
    "stock_data.fillna(stock_data.mean(), inplace=True)"
   ]
  },
  {
   "cell_type": "code",
   "execution_count": 12,
   "id": "1b5570b5-64f3-4eba-84a9-24426abbe7ce",
   "metadata": {},
   "outputs": [],
   "source": [
    "# Split the data into training and test sets\n",
    "X = stock_data[[\"open\", \"high\", \"low\", \"close\", \"volume\",\"MA_126\",\"MA_50\", \"EMA_8\", \"EMA_20\", \"RSI\", \"Upper_Bollinger_Band\", \"Middle_Bollinger_Band\", \"Lower_Bollinger_Band\"]]\n",
    "y = stock_data[\"Close_future_10\"]\n",
    "X_train, X_test, y_train, y_test = train_test_split(X, y, test_size=0.2, random_state = 2)\n"
   ]
  },
  {
   "cell_type": "code",
   "execution_count": 13,
   "id": "66f0332d-20b8-4eb6-b25f-6e5d66ae709b",
   "metadata": {},
   "outputs": [],
   "source": [
    "# Normalize the data\n",
    "scaler = StandardScaler()\n",
    "X_train = scaler.fit_transform(X_train)\n",
    "X_test = scaler.transform(X_test)\n"
   ]
  },
  {
   "cell_type": "code",
   "execution_count": 14,
   "id": "2fb87f6a-d6d3-407d-8cf2-1e09d81fc16d",
   "metadata": {},
   "outputs": [],
   "source": [
    "#Initialize the models\n",
    "linear_regression = LinearRegression()\n",
    "svr = SVR()\n",
    "random_forest = RandomForestRegressor(n_estimators=10)\n"
   ]
  },
  {
   "cell_type": "code",
   "execution_count": 15,
   "id": "86274352-fc31-4da3-b3b2-3873e862d620",
   "metadata": {},
   "outputs": [
    {
     "data": {
      "text/html": [
       "<style>#sk-container-id-1 {color: black;background-color: white;}#sk-container-id-1 pre{padding: 0;}#sk-container-id-1 div.sk-toggleable {background-color: white;}#sk-container-id-1 label.sk-toggleable__label {cursor: pointer;display: block;width: 100%;margin-bottom: 0;padding: 0.3em;box-sizing: border-box;text-align: center;}#sk-container-id-1 label.sk-toggleable__label-arrow:before {content: \"▸\";float: left;margin-right: 0.25em;color: #696969;}#sk-container-id-1 label.sk-toggleable__label-arrow:hover:before {color: black;}#sk-container-id-1 div.sk-estimator:hover label.sk-toggleable__label-arrow:before {color: black;}#sk-container-id-1 div.sk-toggleable__content {max-height: 0;max-width: 0;overflow: hidden;text-align: left;background-color: #f0f8ff;}#sk-container-id-1 div.sk-toggleable__content pre {margin: 0.2em;color: black;border-radius: 0.25em;background-color: #f0f8ff;}#sk-container-id-1 input.sk-toggleable__control:checked~div.sk-toggleable__content {max-height: 200px;max-width: 100%;overflow: auto;}#sk-container-id-1 input.sk-toggleable__control:checked~label.sk-toggleable__label-arrow:before {content: \"▾\";}#sk-container-id-1 div.sk-estimator input.sk-toggleable__control:checked~label.sk-toggleable__label {background-color: #d4ebff;}#sk-container-id-1 div.sk-label input.sk-toggleable__control:checked~label.sk-toggleable__label {background-color: #d4ebff;}#sk-container-id-1 input.sk-hidden--visually {border: 0;clip: rect(1px 1px 1px 1px);clip: rect(1px, 1px, 1px, 1px);height: 1px;margin: -1px;overflow: hidden;padding: 0;position: absolute;width: 1px;}#sk-container-id-1 div.sk-estimator {font-family: monospace;background-color: #f0f8ff;border: 1px dotted black;border-radius: 0.25em;box-sizing: border-box;margin-bottom: 0.5em;}#sk-container-id-1 div.sk-estimator:hover {background-color: #d4ebff;}#sk-container-id-1 div.sk-parallel-item::after {content: \"\";width: 100%;border-bottom: 1px solid gray;flex-grow: 1;}#sk-container-id-1 div.sk-label:hover label.sk-toggleable__label {background-color: #d4ebff;}#sk-container-id-1 div.sk-serial::before {content: \"\";position: absolute;border-left: 1px solid gray;box-sizing: border-box;top: 0;bottom: 0;left: 50%;z-index: 0;}#sk-container-id-1 div.sk-serial {display: flex;flex-direction: column;align-items: center;background-color: white;padding-right: 0.2em;padding-left: 0.2em;position: relative;}#sk-container-id-1 div.sk-item {position: relative;z-index: 1;}#sk-container-id-1 div.sk-parallel {display: flex;align-items: stretch;justify-content: center;background-color: white;position: relative;}#sk-container-id-1 div.sk-item::before, #sk-container-id-1 div.sk-parallel-item::before {content: \"\";position: absolute;border-left: 1px solid gray;box-sizing: border-box;top: 0;bottom: 0;left: 50%;z-index: -1;}#sk-container-id-1 div.sk-parallel-item {display: flex;flex-direction: column;z-index: 1;position: relative;background-color: white;}#sk-container-id-1 div.sk-parallel-item:first-child::after {align-self: flex-end;width: 50%;}#sk-container-id-1 div.sk-parallel-item:last-child::after {align-self: flex-start;width: 50%;}#sk-container-id-1 div.sk-parallel-item:only-child::after {width: 0;}#sk-container-id-1 div.sk-dashed-wrapped {border: 1px dashed gray;margin: 0 0.4em 0.5em 0.4em;box-sizing: border-box;padding-bottom: 0.4em;background-color: white;}#sk-container-id-1 div.sk-label label {font-family: monospace;font-weight: bold;display: inline-block;line-height: 1.2em;}#sk-container-id-1 div.sk-label-container {text-align: center;}#sk-container-id-1 div.sk-container {/* jupyter's `normalize.less` sets `[hidden] { display: none; }` but bootstrap.min.css set `[hidden] { display: none !important; }` so we also need the `!important` here to be able to override the default hidden behavior on the sphinx rendered scikit-learn.org. See: https://github.com/scikit-learn/scikit-learn/issues/21755 */display: inline-block !important;position: relative;}#sk-container-id-1 div.sk-text-repr-fallback {display: none;}</style><div id=\"sk-container-id-1\" class=\"sk-top-container\"><div class=\"sk-text-repr-fallback\"><pre>VotingRegressor(estimators=[(&#x27;linear_regression&#x27;, LinearRegression()),\n",
       "                            (&#x27;svr&#x27;, SVR()),\n",
       "                            (&#x27;random_forest&#x27;,\n",
       "                             RandomForestRegressor(n_estimators=10))])</pre><b>In a Jupyter environment, please rerun this cell to show the HTML representation or trust the notebook. <br />On GitHub, the HTML representation is unable to render, please try loading this page with nbviewer.org.</b></div><div class=\"sk-container\" hidden><div class=\"sk-item sk-dashed-wrapped\"><div class=\"sk-label-container\"><div class=\"sk-label sk-toggleable\"><input class=\"sk-toggleable__control sk-hidden--visually\" id=\"sk-estimator-id-1\" type=\"checkbox\" ><label for=\"sk-estimator-id-1\" class=\"sk-toggleable__label sk-toggleable__label-arrow\">VotingRegressor</label><div class=\"sk-toggleable__content\"><pre>VotingRegressor(estimators=[(&#x27;linear_regression&#x27;, LinearRegression()),\n",
       "                            (&#x27;svr&#x27;, SVR()),\n",
       "                            (&#x27;random_forest&#x27;,\n",
       "                             RandomForestRegressor(n_estimators=10))])</pre></div></div></div><div class=\"sk-parallel\"><div class=\"sk-parallel-item\"><div class=\"sk-item\"><div class=\"sk-label-container\"><div class=\"sk-label sk-toggleable\"><label>linear_regression</label></div></div><div class=\"sk-serial\"><div class=\"sk-item\"><div class=\"sk-estimator sk-toggleable\"><input class=\"sk-toggleable__control sk-hidden--visually\" id=\"sk-estimator-id-2\" type=\"checkbox\" ><label for=\"sk-estimator-id-2\" class=\"sk-toggleable__label sk-toggleable__label-arrow\">LinearRegression</label><div class=\"sk-toggleable__content\"><pre>LinearRegression()</pre></div></div></div></div></div></div><div class=\"sk-parallel-item\"><div class=\"sk-item\"><div class=\"sk-label-container\"><div class=\"sk-label sk-toggleable\"><label>svr</label></div></div><div class=\"sk-serial\"><div class=\"sk-item\"><div class=\"sk-estimator sk-toggleable\"><input class=\"sk-toggleable__control sk-hidden--visually\" id=\"sk-estimator-id-3\" type=\"checkbox\" ><label for=\"sk-estimator-id-3\" class=\"sk-toggleable__label sk-toggleable__label-arrow\">SVR</label><div class=\"sk-toggleable__content\"><pre>SVR()</pre></div></div></div></div></div></div><div class=\"sk-parallel-item\"><div class=\"sk-item\"><div class=\"sk-label-container\"><div class=\"sk-label sk-toggleable\"><label>random_forest</label></div></div><div class=\"sk-serial\"><div class=\"sk-item\"><div class=\"sk-estimator sk-toggleable\"><input class=\"sk-toggleable__control sk-hidden--visually\" id=\"sk-estimator-id-4\" type=\"checkbox\" ><label for=\"sk-estimator-id-4\" class=\"sk-toggleable__label sk-toggleable__label-arrow\">RandomForestRegressor</label><div class=\"sk-toggleable__content\"><pre>RandomForestRegressor(n_estimators=10)</pre></div></div></div></div></div></div></div></div></div></div>"
      ],
      "text/plain": [
       "VotingRegressor(estimators=[('linear_regression', LinearRegression()),\n",
       "                            ('svr', SVR()),\n",
       "                            ('random_forest',\n",
       "                             RandomForestRegressor(n_estimators=10))])"
      ]
     },
     "execution_count": 15,
     "metadata": {},
     "output_type": "execute_result"
    }
   ],
   "source": [
    "# Create a voting regressor that combines the predictions of the individual models\n",
    "voting_regressor = VotingRegressor(estimators=[('linear_regression', linear_regression),\n",
    "                                               ('svr', svr),\n",
    "                                               ('random_forest', random_forest)])\n",
    "\n",
    "# Fit the voting regressor to the training data\n",
    "voting_regressor.fit(X_train, y_train)\n"
   ]
  },
  {
   "cell_type": "code",
   "execution_count": 16,
   "id": "3f2933d4-cbdc-4a07-af91-b591627eee4f",
   "metadata": {},
   "outputs": [],
   "source": [
    "#Make predictions on the test set\n",
    "y_pred = voting_regressor.predict(X_test)"
   ]
  },
  {
   "cell_type": "code",
   "execution_count": 17,
   "id": "22ef8218-25ab-4426-aa3c-41c980316fd4",
   "metadata": {},
   "outputs": [
    {
     "name": "stdout",
     "output_type": "stream",
     "text": [
      "Mean Squared Error:  153.9423391038629\n",
      "R-squared Score:  0.9563740936934793\n"
     ]
    }
   ],
   "source": [
    "#Evaluate the models\n",
    "mse = mean_squared_error(y_test, y_pred)\n",
    "r2 = r2_score(y_test, y_pred)\n",
    "print(\"Mean Squared Error: \", mse)\n",
    "print(\"R-squared Score: \", r2)"
   ]
  },
  {
   "cell_type": "code",
   "execution_count": 18,
   "id": "e0f4a8a4-0c9c-4adf-a22d-f2626749dc24",
   "metadata": {},
   "outputs": [
    {
     "name": "stdout",
     "output_type": "stream",
     "text": [
      "Best Parameters:  {'max_depth': 9, 'min_samples_leaf': 1, 'min_samples_split': 6, 'n_estimators': 100}\n"
     ]
    }
   ],
   "source": [
    "# Define the parameter grid for the random forest regressor\n",
    "param_grid = {\n",
    "    'n_estimators': [100, 200, 300],\n",
    "    'max_depth': [3, 5, 7, 9],\n",
    "    'min_samples_split': [2, 4, 6],\n",
    "    'min_samples_leaf': [1, 2, 4]\n",
    "}\n",
    "#Hyperparameters of the models in the voting regressor\n",
    "grid_search_rf = GridSearchCV(RandomForestRegressor(), param_grid, cv=5)\n",
    "grid_search_rf.fit(X_train, y_train.ravel())\n",
    "print(\"Best Parameters: \", grid_search_rf.best_params_)"
   ]
  },
  {
   "cell_type": "code",
   "execution_count": 19,
   "id": "0ec378d2-17eb-44c5-b111-9d2585b23642",
   "metadata": {},
   "outputs": [
    {
     "data": {
      "text/html": [
       "<style>#sk-container-id-2 {color: black;background-color: white;}#sk-container-id-2 pre{padding: 0;}#sk-container-id-2 div.sk-toggleable {background-color: white;}#sk-container-id-2 label.sk-toggleable__label {cursor: pointer;display: block;width: 100%;margin-bottom: 0;padding: 0.3em;box-sizing: border-box;text-align: center;}#sk-container-id-2 label.sk-toggleable__label-arrow:before {content: \"▸\";float: left;margin-right: 0.25em;color: #696969;}#sk-container-id-2 label.sk-toggleable__label-arrow:hover:before {color: black;}#sk-container-id-2 div.sk-estimator:hover label.sk-toggleable__label-arrow:before {color: black;}#sk-container-id-2 div.sk-toggleable__content {max-height: 0;max-width: 0;overflow: hidden;text-align: left;background-color: #f0f8ff;}#sk-container-id-2 div.sk-toggleable__content pre {margin: 0.2em;color: black;border-radius: 0.25em;background-color: #f0f8ff;}#sk-container-id-2 input.sk-toggleable__control:checked~div.sk-toggleable__content {max-height: 200px;max-width: 100%;overflow: auto;}#sk-container-id-2 input.sk-toggleable__control:checked~label.sk-toggleable__label-arrow:before {content: \"▾\";}#sk-container-id-2 div.sk-estimator input.sk-toggleable__control:checked~label.sk-toggleable__label {background-color: #d4ebff;}#sk-container-id-2 div.sk-label input.sk-toggleable__control:checked~label.sk-toggleable__label {background-color: #d4ebff;}#sk-container-id-2 input.sk-hidden--visually {border: 0;clip: rect(1px 1px 1px 1px);clip: rect(1px, 1px, 1px, 1px);height: 1px;margin: -1px;overflow: hidden;padding: 0;position: absolute;width: 1px;}#sk-container-id-2 div.sk-estimator {font-family: monospace;background-color: #f0f8ff;border: 1px dotted black;border-radius: 0.25em;box-sizing: border-box;margin-bottom: 0.5em;}#sk-container-id-2 div.sk-estimator:hover {background-color: #d4ebff;}#sk-container-id-2 div.sk-parallel-item::after {content: \"\";width: 100%;border-bottom: 1px solid gray;flex-grow: 1;}#sk-container-id-2 div.sk-label:hover label.sk-toggleable__label {background-color: #d4ebff;}#sk-container-id-2 div.sk-serial::before {content: \"\";position: absolute;border-left: 1px solid gray;box-sizing: border-box;top: 0;bottom: 0;left: 50%;z-index: 0;}#sk-container-id-2 div.sk-serial {display: flex;flex-direction: column;align-items: center;background-color: white;padding-right: 0.2em;padding-left: 0.2em;position: relative;}#sk-container-id-2 div.sk-item {position: relative;z-index: 1;}#sk-container-id-2 div.sk-parallel {display: flex;align-items: stretch;justify-content: center;background-color: white;position: relative;}#sk-container-id-2 div.sk-item::before, #sk-container-id-2 div.sk-parallel-item::before {content: \"\";position: absolute;border-left: 1px solid gray;box-sizing: border-box;top: 0;bottom: 0;left: 50%;z-index: -1;}#sk-container-id-2 div.sk-parallel-item {display: flex;flex-direction: column;z-index: 1;position: relative;background-color: white;}#sk-container-id-2 div.sk-parallel-item:first-child::after {align-self: flex-end;width: 50%;}#sk-container-id-2 div.sk-parallel-item:last-child::after {align-self: flex-start;width: 50%;}#sk-container-id-2 div.sk-parallel-item:only-child::after {width: 0;}#sk-container-id-2 div.sk-dashed-wrapped {border: 1px dashed gray;margin: 0 0.4em 0.5em 0.4em;box-sizing: border-box;padding-bottom: 0.4em;background-color: white;}#sk-container-id-2 div.sk-label label {font-family: monospace;font-weight: bold;display: inline-block;line-height: 1.2em;}#sk-container-id-2 div.sk-label-container {text-align: center;}#sk-container-id-2 div.sk-container {/* jupyter's `normalize.less` sets `[hidden] { display: none; }` but bootstrap.min.css set `[hidden] { display: none !important; }` so we also need the `!important` here to be able to override the default hidden behavior on the sphinx rendered scikit-learn.org. See: https://github.com/scikit-learn/scikit-learn/issues/21755 */display: inline-block !important;position: relative;}#sk-container-id-2 div.sk-text-repr-fallback {display: none;}</style><div id=\"sk-container-id-2\" class=\"sk-top-container\"><div class=\"sk-text-repr-fallback\"><pre>RandomForestRegressor(max_depth=9, min_samples_split=6)</pre><b>In a Jupyter environment, please rerun this cell to show the HTML representation or trust the notebook. <br />On GitHub, the HTML representation is unable to render, please try loading this page with nbviewer.org.</b></div><div class=\"sk-container\" hidden><div class=\"sk-item\"><div class=\"sk-estimator sk-toggleable\"><input class=\"sk-toggleable__control sk-hidden--visually\" id=\"sk-estimator-id-5\" type=\"checkbox\" checked><label for=\"sk-estimator-id-5\" class=\"sk-toggleable__label sk-toggleable__label-arrow\">RandomForestRegressor</label><div class=\"sk-toggleable__content\"><pre>RandomForestRegressor(max_depth=9, min_samples_split=6)</pre></div></div></div></div></div>"
      ],
      "text/plain": [
       "RandomForestRegressor(max_depth=9, min_samples_split=6)"
      ]
     },
     "execution_count": 19,
     "metadata": {},
     "output_type": "execute_result"
    }
   ],
   "source": [
    "# Use the best parameters to fit the random forest regressor\n",
    "rf_best = RandomForestRegressor(**grid_search_rf.best_params_)\n",
    "rf_best.fit(X_train, y_train.ravel())\n"
   ]
  },
  {
   "cell_type": "code",
   "execution_count": 20,
   "id": "9ab8f3b5-6660-4e51-a022-bed2338dcd81",
   "metadata": {},
   "outputs": [
    {
     "data": {
      "text/plain": [
       "array([343.2334498 , 399.07261431, 399.86635981, 412.99807853,\n",
       "       287.95090332, 403.02600285, 435.26389207, 318.13178848,\n",
       "       390.24525734, 438.94552635, 350.13392624, 291.87502603,\n",
       "       356.49837568, 392.86642898, 336.01572288, 347.02317972,\n",
       "       383.96831856, 368.01105248, 298.44448874, 298.80085582,\n",
       "       412.1516651 , 391.46680982, 382.3562686 , 329.4629669 ,\n",
       "       404.19007724, 343.45844576, 394.68516596, 401.34595167,\n",
       "       299.71454933, 451.5381192 , 448.54240064, 450.61561534,\n",
       "       437.1233192 , 291.86142154, 344.0992138 , 293.15280333,\n",
       "       447.82107948, 427.46080923, 451.43417562, 283.33567438,\n",
       "       292.15427141, 281.5401914 , 453.71438065, 286.52131216,\n",
       "       437.98640449, 299.80400281, 312.62475497, 310.99758988,\n",
       "       292.67713162, 443.58568218, 382.25169335, 306.07992353,\n",
       "       300.19885042, 398.84519928, 435.35000954, 371.86377686,\n",
       "       444.60582094, 318.36465106, 422.90772562, 349.19579155,\n",
       "       301.81624584, 341.00486374, 305.62725748, 410.56881516,\n",
       "       283.58599539, 394.58191039, 374.99452604, 308.4593042 ,\n",
       "       345.89392725, 421.54585828, 425.21020976, 312.49305739,\n",
       "       287.49321374, 400.46048483, 276.91701872, 414.45443183,\n",
       "       389.93996469, 338.75941868, 389.58531852, 401.42920474,\n",
       "       276.07966487, 441.30386719, 340.01912937, 336.94998178,\n",
       "       318.85593136, 329.954191  , 279.99760729, 374.57157064,\n",
       "       403.79347464, 387.00492137, 310.6648304 , 318.2958085 ,\n",
       "       443.69420476, 408.6110028 , 395.32316675, 321.42414205,\n",
       "       341.5594965 , 437.07986115, 444.75714884, 385.93242434,\n",
       "       385.85661443, 345.13542447, 414.66674402, 299.94172039,\n",
       "       364.18065097, 381.50049237, 386.8825275 , 342.57277594,\n",
       "       322.09968475, 292.36245789, 387.26380652, 301.5885103 ,\n",
       "       318.94566723, 371.47593511, 299.27111563, 309.52413251,\n",
       "       395.31299959, 388.40359185, 429.69926626, 285.11182544,\n",
       "       309.08324996, 292.12320098, 430.76864043, 388.93687526,\n",
       "       345.7536813 , 434.55092086, 408.12446734, 443.10496561,\n",
       "       285.85973506, 442.84875161, 296.19900986, 379.54852916,\n",
       "       300.38090293, 446.17571919, 314.04350065, 279.42584095,\n",
       "       450.73515258, 401.08449196, 394.3878771 , 314.34419318,\n",
       "       437.29539825, 386.44000883, 339.18399132, 296.95636857,\n",
       "       332.70533689, 436.69221858, 431.22591051, 392.34900416,\n",
       "       303.06728036, 342.44608442, 433.98847001, 379.69909175,\n",
       "       287.65012135, 301.22209382, 338.26240577, 397.21198354,\n",
       "       333.36010516, 335.78298965, 457.59442579, 292.22719443,\n",
       "       446.73095057, 451.71110184, 437.55527209, 384.09371956,\n",
       "       361.85187501, 431.49745847, 372.83725055, 354.63312713,\n",
       "       398.06177735, 390.0734458 , 300.92202008, 450.24905031,\n",
       "       388.85223844, 299.69398267, 293.49503419, 394.17587484,\n",
       "       449.55945008, 451.38466934, 290.25357981, 385.8586069 ,\n",
       "       450.4984374 , 382.98774068, 317.30429359, 298.88001871,\n",
       "       347.09881093, 326.22989425, 399.58843771, 405.2634954 ,\n",
       "       451.2175593 , 390.27119561, 300.8799854 , 434.21230841,\n",
       "       390.80013538, 370.16405118, 281.69096729, 414.9931573 ,\n",
       "       430.43514472, 293.62021592, 297.52735578, 404.33029864,\n",
       "       419.45758838, 385.700161  , 343.80535214, 393.34279857,\n",
       "       301.82264478])"
      ]
     },
     "execution_count": 20,
     "metadata": {},
     "output_type": "execute_result"
    }
   ],
   "source": [
    "#Make predictions\n",
    "y_pred = voting_regressor.predict(X_test)\n",
    "y_pred "
   ]
  },
  {
   "cell_type": "code",
   "execution_count": 21,
   "id": "9295c501-fce2-4eb3-8e5c-50d252f97e64",
   "metadata": {},
   "outputs": [
    {
     "name": "stdout",
     "output_type": "stream",
     "text": [
      "Mean Squared Error:  153.9423391038629\n"
     ]
    }
   ],
   "source": [
    "#Calculate the mean squared error\n",
    "mse = mean_squared_error(y_test, y_pred)\n",
    "print(\"Mean Squared Error: \", mse)"
   ]
  },
  {
   "cell_type": "code",
   "execution_count": 22,
   "id": "a5a027c4-2452-42e4-a05e-9002decb2d94",
   "metadata": {},
   "outputs": [
    {
     "name": "stdout",
     "output_type": "stream",
     "text": [
      "R^2 Score:  0.9563740936934793\n"
     ]
    }
   ],
   "source": [
    "#Calculate the R^2 score\n",
    "r2 = r2_score(y_test, y_pred)\n",
    "print(\"R^2 Score: \", r2)"
   ]
  },
  {
   "cell_type": "code",
   "execution_count": 23,
   "id": "ebd7cbaa-7154-4145-98ad-9e2d2b751571",
   "metadata": {},
   "outputs": [
    {
     "data": {
      "image/png": "[encoded data removed]",
      "text/plain": [
       "<Figure size 640x480 with 1 Axes>"
      ]
     },
     "metadata": {},
     "output_type": "display_data"
    }
   ],
   "source": [
    "\n",
    "# Make predictions on the test set\n",
    "y_pred = voting_regressor.predict(X_test)\n",
    "\n",
    "# Plot the true values against the predicted values\n",
    "plt.scatter(y_test, y_pred)\n",
    "plt.xlabel(\"True Values\")\n",
    "plt.ylabel(\"Predictions\")\n",
    "plt.show()"
   ]
  },
  {
   "cell_type": "code",
   "execution_count": 24,
   "id": "fc75d55b-9c81-4c42-a121-06db9c42be52",
   "metadata": {},
   "outputs": [
    {
     "ename": "ValueError",
     "evalue": "continuous is not supported",
     "output_type": "error",
     "traceback": [
      "\u001b[1;31m---------------------------------------------------------------------------\u001b[0m",
      "\u001b[1;31mValueError\u001b[0m                                Traceback (most recent call last)",
      "Input \u001b[1;32mIn [24]\u001b[0m, in \u001b[0;36m<cell line: 2>\u001b[1;34m()\u001b[0m\n\u001b[0;32m      1\u001b[0m \u001b[38;5;66;03m# Calculate and print the accuracy score\u001b[39;00m\n\u001b[1;32m----> 2\u001b[0m accuracy \u001b[38;5;241m=\u001b[39m \u001b[43maccuracy_score\u001b[49m\u001b[43m(\u001b[49m\u001b[43my_test\u001b[49m\u001b[43m,\u001b[49m\u001b[43m \u001b[49m\u001b[43my_pred\u001b[49m\u001b[43m)\u001b[49m\n\u001b[0;32m      3\u001b[0m \u001b[38;5;28mprint\u001b[39m(\u001b[38;5;124m\"\u001b[39m\u001b[38;5;124mAccuracy: \u001b[39m\u001b[38;5;132;01m{:.2f}\u001b[39;00m\u001b[38;5;124m%\u001b[39m\u001b[38;5;124m\"\u001b[39m\u001b[38;5;241m.\u001b[39mformat(accuracy \u001b[38;5;241m*\u001b[39m \u001b[38;5;241m100\u001b[39m))\n",
      "File \u001b[1;32m~\\anaconda3\\lib\\site-packages\\sklearn\\utils\\_param_validation.py:192\u001b[0m, in \u001b[0;36mvalidate_params.<locals>.decorator.<locals>.wrapper\u001b[1;34m(*args, **kwargs)\u001b[0m\n\u001b[0;32m    187\u001b[0m validate_parameter_constraints(\n\u001b[0;32m    188\u001b[0m     parameter_constraints, params, caller_name\u001b[38;5;241m=\u001b[39mfunc\u001b[38;5;241m.\u001b[39m\u001b[38;5;18m__qualname__\u001b[39m\n\u001b[0;32m    189\u001b[0m )\n\u001b[0;32m    191\u001b[0m \u001b[38;5;28;01mtry\u001b[39;00m:\n\u001b[1;32m--> 192\u001b[0m     \u001b[38;5;28;01mreturn\u001b[39;00m func(\u001b[38;5;241m*\u001b[39margs, \u001b[38;5;241m*\u001b[39m\u001b[38;5;241m*\u001b[39mkwargs)\n\u001b[0;32m    193\u001b[0m \u001b[38;5;28;01mexcept\u001b[39;00m InvalidParameterError \u001b[38;5;28;01mas\u001b[39;00m e:\n\u001b[0;32m    194\u001b[0m     \u001b[38;5;66;03m# When the function is just a wrapper around an estimator, we allow\u001b[39;00m\n\u001b[0;32m    195\u001b[0m     \u001b[38;5;66;03m# the function to delegate validation to the estimator, but we replace\u001b[39;00m\n\u001b[0;32m    196\u001b[0m     \u001b[38;5;66;03m# the name of the estimator by the name of the function in the error\u001b[39;00m\n\u001b[0;32m    197\u001b[0m     \u001b[38;5;66;03m# message to avoid confusion.\u001b[39;00m\n\u001b[0;32m    198\u001b[0m     msg \u001b[38;5;241m=\u001b[39m re\u001b[38;5;241m.\u001b[39msub(\n\u001b[0;32m    199\u001b[0m         \u001b[38;5;124mr\u001b[39m\u001b[38;5;124m\"\u001b[39m\u001b[38;5;124mparameter of \u001b[39m\u001b[38;5;124m\\\u001b[39m\u001b[38;5;124mw+ must be\u001b[39m\u001b[38;5;124m\"\u001b[39m,\n\u001b[0;32m    200\u001b[0m         \u001b[38;5;124mf\u001b[39m\u001b[38;5;124m\"\u001b[39m\u001b[38;5;124mparameter of \u001b[39m\u001b[38;5;132;01m{\u001b[39;00mfunc\u001b[38;5;241m.\u001b[39m\u001b[38;5;18m__qualname__\u001b[39m\u001b[38;5;132;01m}\u001b[39;00m\u001b[38;5;124m must be\u001b[39m\u001b[38;5;124m\"\u001b[39m,\n\u001b[0;32m    201\u001b[0m         \u001b[38;5;28mstr\u001b[39m(e),\n\u001b[0;32m    202\u001b[0m     )\n",
      "File \u001b[1;32m~\\anaconda3\\lib\\site-packages\\sklearn\\metrics\\_classification.py:221\u001b[0m, in \u001b[0;36maccuracy_score\u001b[1;34m(y_true, y_pred, normalize, sample_weight)\u001b[0m\n\u001b[0;32m    155\u001b[0m \u001b[38;5;124;03m\"\"\"Accuracy classification score.\u001b[39;00m\n\u001b[0;32m    156\u001b[0m \n\u001b[0;32m    157\u001b[0m \u001b[38;5;124;03mIn multilabel classification, this function computes subset accuracy:\u001b[39;00m\n\u001b[1;32m   (...)\u001b[0m\n\u001b[0;32m    217\u001b[0m \u001b[38;5;124;03m0.5\u001b[39;00m\n\u001b[0;32m    218\u001b[0m \u001b[38;5;124;03m\"\"\"\u001b[39;00m\n\u001b[0;32m    220\u001b[0m \u001b[38;5;66;03m# Compute accuracy for each possible representation\u001b[39;00m\n\u001b[1;32m--> 221\u001b[0m y_type, y_true, y_pred \u001b[38;5;241m=\u001b[39m \u001b[43m_check_targets\u001b[49m\u001b[43m(\u001b[49m\u001b[43my_true\u001b[49m\u001b[43m,\u001b[49m\u001b[43m \u001b[49m\u001b[43my_pred\u001b[49m\u001b[43m)\u001b[49m\n\u001b[0;32m    222\u001b[0m check_consistent_length(y_true, y_pred, sample_weight)\n\u001b[0;32m    223\u001b[0m \u001b[38;5;28;01mif\u001b[39;00m y_type\u001b[38;5;241m.\u001b[39mstartswith(\u001b[38;5;124m\"\u001b[39m\u001b[38;5;124mmultilabel\u001b[39m\u001b[38;5;124m\"\u001b[39m):\n",
      "File \u001b[1;32m~\\anaconda3\\lib\\site-packages\\sklearn\\metrics\\_classification.py:106\u001b[0m, in \u001b[0;36m_check_targets\u001b[1;34m(y_true, y_pred)\u001b[0m\n\u001b[0;32m    104\u001b[0m \u001b[38;5;66;03m# No metrics support \"multiclass-multioutput\" format\u001b[39;00m\n\u001b[0;32m    105\u001b[0m \u001b[38;5;28;01mif\u001b[39;00m y_type \u001b[38;5;129;01mnot\u001b[39;00m \u001b[38;5;129;01min\u001b[39;00m [\u001b[38;5;124m\"\u001b[39m\u001b[38;5;124mbinary\u001b[39m\u001b[38;5;124m\"\u001b[39m, \u001b[38;5;124m\"\u001b[39m\u001b[38;5;124mmulticlass\u001b[39m\u001b[38;5;124m\"\u001b[39m, \u001b[38;5;124m\"\u001b[39m\u001b[38;5;124mmultilabel-indicator\u001b[39m\u001b[38;5;124m\"\u001b[39m]:\n\u001b[1;32m--> 106\u001b[0m     \u001b[38;5;28;01mraise\u001b[39;00m \u001b[38;5;167;01mValueError\u001b[39;00m(\u001b[38;5;124m\"\u001b[39m\u001b[38;5;132;01m{0}\u001b[39;00m\u001b[38;5;124m is not supported\u001b[39m\u001b[38;5;124m\"\u001b[39m\u001b[38;5;241m.\u001b[39mformat(y_type))\n\u001b[0;32m    108\u001b[0m \u001b[38;5;28;01mif\u001b[39;00m y_type \u001b[38;5;129;01min\u001b[39;00m [\u001b[38;5;124m\"\u001b[39m\u001b[38;5;124mbinary\u001b[39m\u001b[38;5;124m\"\u001b[39m, \u001b[38;5;124m\"\u001b[39m\u001b[38;5;124mmulticlass\u001b[39m\u001b[38;5;124m\"\u001b[39m]:\n\u001b[0;32m    109\u001b[0m     y_true \u001b[38;5;241m=\u001b[39m column_or_1d(y_true)\n",
      "\u001b[1;31mValueError\u001b[0m: continuous is not supported"
     ]
    }
   ],
   "source": [
    "# Calculate and print the accuracy score\n",
    "accuracy = accuracy_score(y_test, y_pred)\n",
    "print(\"Accuracy: {:.2f}%\".format(accuracy * 100))"
   ]
  },
  {
   "cell_type": "code",
   "execution_count": null,
   "id": "a4be2d5d-408e-4176-b5b1-8d5e2d9d9b5c",
   "metadata": {},
   "outputs": [],
   "source": []
  },
  {
   "cell_type": "code",
   "execution_count": null,
   "id": "73fccfd8-923f-40e5-9e0d-9e5b9f6a54dc",
   "metadata": {},
   "outputs": [],
   "source": []
  }
 ],
 "metadata": {
  "kernelspec": {
   "display_name": "Python 3 (ipykernel)",
   "language": "python",
   "name": "python3"
  },
  "language_info": {
   "codemirror_mode": {
    "name": "ipython",
    "version": 3
   },
   "file_extension": ".py",
   "mimetype": "text/x-python",
   "name": "python",
   "nbconvert_exporter": "python",
   "pygments_lexer": "ipython3",
   "version": "3.9.12"
  }
 },
 "nbformat": 4,
 "nbformat_minor": 5
}
